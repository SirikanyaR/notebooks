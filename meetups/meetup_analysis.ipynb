{
 "cells": [
  {
   "cell_type": "markdown",
   "metadata": {},
   "source": [
    "# Analysing Public Member Info on Meetup.com\n",
    "\n",
    "In this notebook we do some simple analysis of information about members registered on [meetup.com](https://meetup.com). We extract the info using the official [meetup API](https://www.meetup.com/meetup_api/)  where you can also get [your API key](https://secure.meetup.com/meetup_api/key/) as a registered member.\n",
    "\n",
    "**N.B.** This is work in progress."
   ]
  },
  {
   "cell_type": "markdown",
   "metadata": {},
   "source": [
    "## Getting Started"
   ]
  },
  {
   "cell_type": "code",
   "execution_count": 1,
   "metadata": {
    "collapsed": true
   },
   "outputs": [],
   "source": [
    "%matplotlib inline\n",
    "\n",
    "import re\n",
    "import os\n",
    "import json\n",
    "\n",
    "import requests\n",
    "import pandas as pd"
   ]
  },
  {
   "cell_type": "code",
   "execution_count": 2,
   "metadata": {
    "collapsed": true
   },
   "outputs": [],
   "source": [
    "server = 'https://api.meetup.com'\n",
    "group_urlname = 'Python-Users-Berlin-PUB'\n",
    "from meetup_api_key import key"
   ]
  },
  {
   "cell_type": "markdown",
   "metadata": {},
   "source": [
    "Get information about a group on Meetup.com:"
   ]
  },
  {
   "cell_type": "code",
   "execution_count": 3,
   "metadata": {
    "collapsed": false,
    "scrolled": true
   },
   "outputs": [
    {
     "data": {
      "text/plain": [
       "{'category': {'id': 34,\n",
       "  'name': 'Tech',\n",
       "  'shortname': 'Tech',\n",
       "  'sort_name': 'Tech'},\n",
       " 'city': 'Berlin',\n",
       " 'country': 'DE',\n",
       " 'created': 1352071340000,\n",
       " 'description': '<p>This is the Python Users Group Berlin (PUB). We host presentations and discussions about Python and Python-related software development (mostly framework-independent).</p>\\n<p><span>Currently most talks are held in English language but we usually switch to German if all visitors speak German. Please indicate your interest on the mailing list (</span><a href=\"http://starship.python.net/cgi-bin/mailman/listinfo/python-berlin\" class=\"linkified\">http://starship.python.net/cgi-bin/mailman/...</a><span>) if you are interested in any specific language so the speakers can prepare for that. We meet every 2nd Thursday of the month at 7pm at <a href=\"http://co-up.de\">co.up</a>&nbsp;(close to Kottbusser Tor or \"Kotti\" ;-).</span>&nbsp;<span>Since attendance rate in Berlin is usually under 50% only we\\'ve stopped limiting the number of RSVPs. As we have space for 40-60 people at </span><a href=\"http://co-up.de\">co.up</a><span> the rule is: first come, first seated.</span></p>\\n<p><b>New:</b> There is a new <a href=\"http://slack.com\">slack</a> team for us named&nbsp;<a href=\"http://pythonberlin.slack.com\">pythonberlin</a> for which you can invite yourself here:&nbsp;<a href=\"https://pythonberlin.ngrok.io/\">https://pythonberlin.eu.ngrok.io</a>&nbsp;(a service almost available 24/7, though, since it\\'s running on a Raspberry Pi.).</p>\\n<p>You might also want to subscribe to our&nbsp;<a href=\"http://starship.python.net/mailman/listinfo/python-berlin\">mailing list</a>&nbsp;(usually in German) which has become rather low-traffic over the last years.</p>\\n<br>',\n",
       " 'group_photo': {'base_url': 'http://photos3.meetupstatic.com',\n",
       "  'highres_link': 'http://photos3.meetupstatic.com/photos/event/7/b/f/4/highres_186571732.jpeg',\n",
       "  'id': 186571732,\n",
       "  'photo_link': 'http://photos3.meetupstatic.com/photos/event/7/b/f/4/600_186571732.jpeg',\n",
       "  'thumb_link': 'http://photos3.meetupstatic.com/photos/event/7/b/f/4/thumb_186571732.jpeg',\n",
       "  'type': 'event'},\n",
       " 'id': 5700582,\n",
       " 'join_mode': 'open',\n",
       " 'key_photo': {'base_url': 'http://photos1.meetupstatic.com',\n",
       "  'highres_link': 'http://photos1.meetupstatic.com/photos/event/e/4/d/9/highres_450958585.jpeg',\n",
       "  'id': 450958585,\n",
       "  'photo_link': 'http://photos1.meetupstatic.com/photos/event/e/4/d/9/600_450958585.jpeg',\n",
       "  'thumb_link': 'http://photos1.meetupstatic.com/photos/event/e/4/d/9/thumb_450958585.jpeg',\n",
       "  'type': 'event'},\n",
       " 'lat': 52.52,\n",
       " 'link': 'https://www.meetup.com/Python-Users-Berlin-PUB/',\n",
       " 'localized_country_name': 'Germany',\n",
       " 'lon': 13.38,\n",
       " 'members': 2394,\n",
       " 'name': 'Python Users Berlin (PUB)',\n",
       " 'next_event': {'id': 'xmdjfmywdbmb',\n",
       "  'name': 'Image Processing',\n",
       "  'time': 1486663200000,\n",
       "  'utc_offset': 3600000,\n",
       "  'yes_rsvp_count': 98},\n",
       " 'organizer': {'bio': '',\n",
       "  'id': 72223432,\n",
       "  'name': 'Veit Schiele',\n",
       "  'photo': {'base_url': 'http://photos2.meetupstatic.com',\n",
       "   'highres_link': 'http://photos2.meetupstatic.com/photos/member/d/e/6/4/highres_85556932.jpeg',\n",
       "   'id': 85556932,\n",
       "   'photo_link': 'http://photos2.meetupstatic.com/photos/member/d/e/6/4/member_85556932.jpeg',\n",
       "   'thumb_link': 'http://photos2.meetupstatic.com/photos/member/d/e/6/4/thumb_85556932.jpeg',\n",
       "   'type': 'member'}},\n",
       " 'photos': [{'base_url': 'http://photos2.meetupstatic.com',\n",
       "   'highres_link': 'http://photos4.meetupstatic.com/photos/event/6/a/0/6/highres_247467142.jpeg',\n",
       "   'id': 247467142,\n",
       "   'photo_link': 'http://photos2.meetupstatic.com/photos/event/6/a/0/6/600_247467142.jpeg',\n",
       "   'thumb_link': 'http://photos2.meetupstatic.com/photos/event/6/a/0/6/thumb_247467142.jpeg',\n",
       "   'type': 'event'},\n",
       "  {'base_url': 'http://photos2.meetupstatic.com',\n",
       "   'highres_link': 'http://photos2.meetupstatic.com/photos/event/8/4/8/2/highres_306693922.jpeg',\n",
       "   'id': 306693922,\n",
       "   'photo_link': 'http://photos2.meetupstatic.com/photos/event/8/4/8/2/600_306693922.jpeg',\n",
       "   'thumb_link': 'http://photos2.meetupstatic.com/photos/event/8/4/8/2/thumb_306693922.jpeg',\n",
       "   'type': 'event'},\n",
       "  {'base_url': 'http://photos2.meetupstatic.com',\n",
       "   'highres_link': 'http://photos2.meetupstatic.com/photos/event/d/5/0/4/highres_306714532.jpeg',\n",
       "   'id': 306714532,\n",
       "   'photo_link': 'http://photos2.meetupstatic.com/photos/event/d/5/0/4/600_306714532.jpeg',\n",
       "   'thumb_link': 'http://photos2.meetupstatic.com/photos/event/d/5/0/4/thumb_306714532.jpeg',\n",
       "   'type': 'event'},\n",
       "  {'base_url': 'http://photos3.meetupstatic.com',\n",
       "   'highres_link': 'http://photos3.meetupstatic.com/photos/event/9/7/3/2/highres_452138706.jpeg',\n",
       "   'id': 452138706,\n",
       "   'photo_link': 'http://photos3.meetupstatic.com/photos/event/9/7/3/2/600_452138706.jpeg',\n",
       "   'thumb_link': 'http://photos3.meetupstatic.com/photos/event/9/7/3/2/thumb_452138706.jpeg',\n",
       "   'type': 'event'}],\n",
       " 'state': '',\n",
       " 'timezone': 'Europe/Berlin',\n",
       " 'urlname': 'Python-Users-Berlin-PUB',\n",
       " 'visibility': 'public',\n",
       " 'who': 'Pythonistas'}"
      ]
     },
     "execution_count": 3,
     "metadata": {},
     "output_type": "execute_result"
    }
   ],
   "source": [
    "requests.get(\"https://api.meetup.com/%s?key=%s\" % (group_urlname, key)).json()"
   ]
  },
  {
   "cell_type": "markdown",
   "metadata": {},
   "source": [
    "Get information about two members of that group:"
   ]
  },
  {
   "cell_type": "code",
   "execution_count": 4,
   "metadata": {
    "collapsed": false
   },
   "outputs": [],
   "source": [
    "url = server + \"/2/members?offset=1&page=2&order=name&group_urlname=%s&key=%s\" % (group_urlname, key)\n",
    "info = requests.get(url).json()\n",
    "# hide key so it doesn't show up in some repository:\n",
    "for f in ('next', 'url'):\n",
    "    info['meta'][f] = re.sub('key=\\w+', 'key=******', info['meta'][f])"
   ]
  },
  {
   "cell_type": "code",
   "execution_count": 5,
   "metadata": {
    "collapsed": false,
    "scrolled": true
   },
   "outputs": [
    {
     "data": {
      "text/plain": [
       "{'meta': {'count': 2,\n",
       "  'description': 'API method for accessing members of Meetup Groups',\n",
       "  'id': '',\n",
       "  'lat': '',\n",
       "  'link': 'https://api.meetup.com/2/members',\n",
       "  'lon': '',\n",
       "  'method': 'Members',\n",
       "  'next': 'https://api.meetup.com/2/members?offset=2&format=json&group_urlname=Python-Users-Berlin-PUB&page=2&key=******&order=name',\n",
       "  'title': 'Meetup Members v2',\n",
       "  'total_count': 2394,\n",
       "  'updated': 1486231644000,\n",
       "  'url': 'https://api.meetup.com/2/members?offset=1&format=json&group_urlname=Python-Users-Berlin-PUB&page=2&key=******&order=name'},\n",
       " 'results': [{'city': 'Berlin',\n",
       "   'country': 'de',\n",
       "   'id': 214130302,\n",
       "   'joined': 1475364688000,\n",
       "   'lat': 52.52,\n",
       "   'link': 'http://www.meetup.com/members/214130302',\n",
       "   'lon': 13.38,\n",
       "   'name': '/f',\n",
       "   'other_services': {},\n",
       "   'photo': {'base_url': 'http://photos1.meetupstatic.com',\n",
       "    'highres_link': 'http://photos1.meetupstatic.com/photos/member/2/2/3/4/highres_260648756.jpeg',\n",
       "    'photo_id': 260648756,\n",
       "    'photo_link': 'http://photos3.meetupstatic.com/photos/member/2/2/3/4/member_260648756.jpeg',\n",
       "    'thumb_link': 'http://photos1.meetupstatic.com/photos/member/2/2/3/4/thumb_260648756.jpeg',\n",
       "    'type': 'member'},\n",
       "   'self': {'common': {}},\n",
       "   'status': 'active',\n",
       "   'topics': [],\n",
       "   'visited': 1475364688000},\n",
       "  {'city': 'Berlin',\n",
       "   'country': 'de',\n",
       "   'id': 170339852,\n",
       "   'joined': 1457638728000,\n",
       "   'lat': 52.52,\n",
       "   'link': 'http://www.meetup.com/members/170339852',\n",
       "   'lon': 13.38,\n",
       "   'name': 'A S Aditya',\n",
       "   'other_services': {},\n",
       "   'photo': {'base_url': 'http://photos3.meetupstatic.com',\n",
       "    'highres_link': 'http://photos3.meetupstatic.com/photos/member/d/f/d/highres_254643581.jpeg',\n",
       "    'photo_id': 254643581,\n",
       "    'photo_link': 'http://photos1.meetupstatic.com/photos/member/d/f/d/member_254643581.jpeg',\n",
       "    'thumb_link': 'http://photos3.meetupstatic.com/photos/member/d/f/d/thumb_254643581.jpeg',\n",
       "    'type': 'member'},\n",
       "   'self': {'common': {}},\n",
       "   'status': 'active',\n",
       "   'topics': [{'id': 85, 'name': 'Science', 'urlkey': 'science'},\n",
       "    {'id': 86, 'name': 'Physics', 'urlkey': 'physics'},\n",
       "    {'id': 88, 'name': 'Chemistry', 'urlkey': 'chemistry'},\n",
       "    {'id': 18551, 'name': 'Quantum Physics', 'urlkey': 'quantum-physics'},\n",
       "    {'id': 33876, 'name': 'Mathematics', 'urlkey': 'mathematics'},\n",
       "    {'id': 28034, 'name': 'BioInformatics', 'urlkey': 'bioinformatics'}],\n",
       "   'visited': 1484230753000}]}"
      ]
     },
     "execution_count": 5,
     "metadata": {},
     "output_type": "execute_result"
    }
   ],
   "source": [
    "info"
   ]
  },
  {
   "cell_type": "code",
   "execution_count": 6,
   "metadata": {
    "collapsed": true
   },
   "outputs": [],
   "source": [
    "def get_all_members(group_urlname, verbose=False):\n",
    "    \"Read members info from a sequence of pages.\"\n",
    "\n",
    "    total = []\n",
    "    offset = 1\n",
    "    page = 200\n",
    "    url = \"{server}/2/members?offset={offset}&format=json&group_urlname={group_urlname}&page={page}&key={key}&order=name\"\n",
    "    url = url.format(server=server, offset=offset, page=page, group_urlname=group_urlname, key=key)\n",
    "    info = requests.get(url).json()\n",
    "    total += info['results']\n",
    "    if verbose:\n",
    "        print(url)\n",
    "        print(len(total), info['meta']['count'])\n",
    "    while True:\n",
    "        next_url = info['meta']['next']\n",
    "        print(next_url)\n",
    "        if not next_url:\n",
    "            break\n",
    "        js = requests.get(next_url).json()\n",
    "        total += info['results']\n",
    "        print(len(total), info['meta']['count'])\n",
    "    if verbose:\n",
    "        print('found %d members' % len(total))\n",
    "    return total"
   ]
  },
  {
   "cell_type": "code",
   "execution_count": 7,
   "metadata": {
    "collapsed": false
   },
   "outputs": [],
   "source": [
    "path = 'pub-members.json'\n",
    "if os.path.exists(path):\n",
    "    members = json.load(open(path))\n",
    "else:\n",
    "    members = get_all_members('Python-Users-Berlin-PUB')\n",
    "    json.dump(members, open(path, 'w'))"
   ]
  },
  {
   "cell_type": "code",
   "execution_count": 8,
   "metadata": {
    "collapsed": false,
    "scrolled": true
   },
   "outputs": [
    {
     "data": {
      "text/plain": [
       "{'bio': 'loves numbers, data, and code',\n",
       " 'city': 'Berlin',\n",
       " 'country': 'de',\n",
       " 'hometown': 'Kolkata, IN',\n",
       " 'id': 193168948,\n",
       " 'joined': 1452637632000,\n",
       " 'lat': 52.52,\n",
       " 'link': 'http://www.meetup.com/members/193168948',\n",
       " 'lon': 13.38,\n",
       " 'name': 'Arnab Dutta',\n",
       " 'other_services': {},\n",
       " 'photo': {'base_url': 'http://photos1.meetupstatic.com',\n",
       "  'highres_link': 'http://photos1.meetupstatic.com/photos/member/d/e/6/d/highres_250016941.jpeg',\n",
       "  'photo_id': 250016941,\n",
       "  'photo_link': 'http://photos3.meetupstatic.com/photos/member/d/e/6/d/member_250016941.jpeg',\n",
       "  'thumb_link': 'http://photos1.meetupstatic.com/photos/member/d/e/6/d/thumb_250016941.jpeg',\n",
       "  'type': 'member'},\n",
       " 'self': {'common': {}},\n",
       " 'status': 'active',\n",
       " 'topics': [{'id': 563, 'name': 'Open Source', 'urlkey': 'opensource'},\n",
       "  {'id': 3833, 'name': 'Software Development', 'urlkey': 'softwaredev'},\n",
       "  {'id': 9696, 'name': 'New Technology', 'urlkey': 'newtech'},\n",
       "  {'id': 10209, 'name': 'Web Technology', 'urlkey': 'web'},\n",
       "  {'id': 18062, 'name': 'Big Data', 'urlkey': 'big-data'},\n",
       "  {'id': 38660, 'name': 'Lean Startup', 'urlkey': 'lean-startup'},\n",
       "  {'id': 15167, 'name': 'Cloud Computing', 'urlkey': 'cloud-computing'},\n",
       "  {'id': 29971, 'name': 'Machine Learning', 'urlkey': 'machine-learning'},\n",
       "  {'id': 30928, 'name': 'Data Analytics', 'urlkey': 'data-analytics'},\n",
       "  {'id': 37381, 'name': 'Data Visualization', 'urlkey': 'data-visualization'},\n",
       "  {'id': 98137,\n",
       "   'name': 'Machine Intelligence',\n",
       "   'urlkey': 'machine-intelligence'},\n",
       "  {'id': 153481,\n",
       "   'name': 'Support Vector Machines',\n",
       "   'urlkey': 'support-vector-machines'},\n",
       "  {'id': 1481522,\n",
       "   'name': 'Data Science using Python',\n",
       "   'urlkey': 'data-science-using-python'},\n",
       "  {'id': 1502, 'name': 'Art', 'urlkey': 'art'},\n",
       "  {'id': 15236,\n",
       "   'name': 'professional-networking',\n",
       "   'urlkey': 'business-networking'}],\n",
       " 'visited': 1461359873000}"
      ]
     },
     "execution_count": 8,
     "metadata": {},
     "output_type": "execute_result"
    }
   ],
   "source": [
    "members[0]"
   ]
  },
  {
   "cell_type": "markdown",
   "metadata": {},
   "source": [
    "## PUB Members' Interests"
   ]
  },
  {
   "cell_type": "code",
   "execution_count": 9,
   "metadata": {
    "collapsed": false
   },
   "outputs": [
    {
     "data": {
      "text/plain": [
       "[{'id': 563, 'name': 'Open Source', 'urlkey': 'opensource'},\n",
       " {'id': 3833, 'name': 'Software Development', 'urlkey': 'softwaredev'},\n",
       " {'id': 9696, 'name': 'New Technology', 'urlkey': 'newtech'},\n",
       " {'id': 10209, 'name': 'Web Technology', 'urlkey': 'web'},\n",
       " {'id': 18062, 'name': 'Big Data', 'urlkey': 'big-data'},\n",
       " {'id': 38660, 'name': 'Lean Startup', 'urlkey': 'lean-startup'},\n",
       " {'id': 15167, 'name': 'Cloud Computing', 'urlkey': 'cloud-computing'},\n",
       " {'id': 29971, 'name': 'Machine Learning', 'urlkey': 'machine-learning'},\n",
       " {'id': 30928, 'name': 'Data Analytics', 'urlkey': 'data-analytics'},\n",
       " {'id': 37381, 'name': 'Data Visualization', 'urlkey': 'data-visualization'},\n",
       " {'id': 98137,\n",
       "  'name': 'Machine Intelligence',\n",
       "  'urlkey': 'machine-intelligence'},\n",
       " {'id': 153481,\n",
       "  'name': 'Support Vector Machines',\n",
       "  'urlkey': 'support-vector-machines'},\n",
       " {'id': 1481522,\n",
       "  'name': 'Data Science using Python',\n",
       "  'urlkey': 'data-science-using-python'},\n",
       " {'id': 1502, 'name': 'Art', 'urlkey': 'art'},\n",
       " {'id': 15236,\n",
       "  'name': 'professional-networking',\n",
       "  'urlkey': 'business-networking'}]"
      ]
     },
     "execution_count": 9,
     "metadata": {},
     "output_type": "execute_result"
    }
   ],
   "source": [
    "members[0]['topics']"
   ]
  },
  {
   "cell_type": "code",
   "execution_count": 10,
   "metadata": {
    "collapsed": false
   },
   "outputs": [
    {
     "data": {
      "text/html": [
       "<div>\n",
       "<table border=\"1\" class=\"dataframe\">\n",
       "  <thead>\n",
       "    <tr style=\"text-align: right;\">\n",
       "      <th></th>\n",
       "      <th>id</th>\n",
       "      <th>name</th>\n",
       "      <th>urlkey</th>\n",
       "    </tr>\n",
       "  </thead>\n",
       "  <tbody>\n",
       "    <tr>\n",
       "      <th>0</th>\n",
       "      <td>563</td>\n",
       "      <td>Open Source</td>\n",
       "      <td>opensource</td>\n",
       "    </tr>\n",
       "    <tr>\n",
       "      <th>1</th>\n",
       "      <td>3833</td>\n",
       "      <td>Software Development</td>\n",
       "      <td>softwaredev</td>\n",
       "    </tr>\n",
       "    <tr>\n",
       "      <th>2</th>\n",
       "      <td>9696</td>\n",
       "      <td>New Technology</td>\n",
       "      <td>newtech</td>\n",
       "    </tr>\n",
       "    <tr>\n",
       "      <th>3</th>\n",
       "      <td>10209</td>\n",
       "      <td>Web Technology</td>\n",
       "      <td>web</td>\n",
       "    </tr>\n",
       "    <tr>\n",
       "      <th>4</th>\n",
       "      <td>18062</td>\n",
       "      <td>Big Data</td>\n",
       "      <td>big-data</td>\n",
       "    </tr>\n",
       "    <tr>\n",
       "      <th>5</th>\n",
       "      <td>38660</td>\n",
       "      <td>Lean Startup</td>\n",
       "      <td>lean-startup</td>\n",
       "    </tr>\n",
       "    <tr>\n",
       "      <th>6</th>\n",
       "      <td>15167</td>\n",
       "      <td>Cloud Computing</td>\n",
       "      <td>cloud-computing</td>\n",
       "    </tr>\n",
       "    <tr>\n",
       "      <th>7</th>\n",
       "      <td>29971</td>\n",
       "      <td>Machine Learning</td>\n",
       "      <td>machine-learning</td>\n",
       "    </tr>\n",
       "    <tr>\n",
       "      <th>8</th>\n",
       "      <td>30928</td>\n",
       "      <td>Data Analytics</td>\n",
       "      <td>data-analytics</td>\n",
       "    </tr>\n",
       "    <tr>\n",
       "      <th>9</th>\n",
       "      <td>37381</td>\n",
       "      <td>Data Visualization</td>\n",
       "      <td>data-visualization</td>\n",
       "    </tr>\n",
       "    <tr>\n",
       "      <th>10</th>\n",
       "      <td>98137</td>\n",
       "      <td>Machine Intelligence</td>\n",
       "      <td>machine-intelligence</td>\n",
       "    </tr>\n",
       "    <tr>\n",
       "      <th>11</th>\n",
       "      <td>153481</td>\n",
       "      <td>Support Vector Machines</td>\n",
       "      <td>support-vector-machines</td>\n",
       "    </tr>\n",
       "    <tr>\n",
       "      <th>12</th>\n",
       "      <td>1481522</td>\n",
       "      <td>Data Science using Python</td>\n",
       "      <td>data-science-using-python</td>\n",
       "    </tr>\n",
       "    <tr>\n",
       "      <th>13</th>\n",
       "      <td>1502</td>\n",
       "      <td>Art</td>\n",
       "      <td>art</td>\n",
       "    </tr>\n",
       "    <tr>\n",
       "      <th>14</th>\n",
       "      <td>15236</td>\n",
       "      <td>professional-networking</td>\n",
       "      <td>business-networking</td>\n",
       "    </tr>\n",
       "  </tbody>\n",
       "</table>\n",
       "</div>"
      ],
      "text/plain": [
       "         id                       name                     urlkey\n",
       "0       563                Open Source                 opensource\n",
       "1      3833       Software Development                softwaredev\n",
       "2      9696             New Technology                    newtech\n",
       "3     10209             Web Technology                        web\n",
       "4     18062                   Big Data                   big-data\n",
       "5     38660               Lean Startup               lean-startup\n",
       "6     15167            Cloud Computing            cloud-computing\n",
       "7     29971           Machine Learning           machine-learning\n",
       "8     30928             Data Analytics             data-analytics\n",
       "9     37381         Data Visualization         data-visualization\n",
       "10    98137       Machine Intelligence       machine-intelligence\n",
       "11   153481    Support Vector Machines    support-vector-machines\n",
       "12  1481522  Data Science using Python  data-science-using-python\n",
       "13     1502                        Art                        art\n",
       "14    15236    professional-networking        business-networking"
      ]
     },
     "execution_count": 10,
     "metadata": {},
     "output_type": "execute_result"
    }
   ],
   "source": [
    "pd.DataFrame(members[0]['topics'])"
   ]
  },
  {
   "cell_type": "markdown",
   "metadata": {},
   "source": [
    "Now build a dataframe with this information for all members:"
   ]
  },
  {
   "cell_type": "code",
   "execution_count": 11,
   "metadata": {
    "collapsed": true
   },
   "outputs": [],
   "source": [
    "df = pd.concat([pd.DataFrame(m['topics']) for m in members])"
   ]
  },
  {
   "cell_type": "code",
   "execution_count": 12,
   "metadata": {
    "collapsed": false
   },
   "outputs": [
    {
     "data": {
      "text/plain": [
       "36130"
      ]
     },
     "execution_count": 12,
     "metadata": {},
     "output_type": "execute_result"
    }
   ],
   "source": [
    "len(df)"
   ]
  },
  {
   "cell_type": "code",
   "execution_count": 13,
   "metadata": {
    "collapsed": false
   },
   "outputs": [
    {
     "data": {
      "text/plain": [
       "<matplotlib.axes._subplots.AxesSubplot at 0x113939b38>"
      ]
     },
     "execution_count": 13,
     "metadata": {},
     "output_type": "execute_result"
    },
    {
     "data": {
      "image/png": "[encoded data removed]",
      "text/plain": [
       "<matplotlib.figure.Figure at 0x113939048>"
      ]
     },
     "metadata": {},
     "output_type": "display_data"
    }
   ],
   "source": [
    "s = df.groupby('name').size().sort_values(ascending=True)[-20:]\n",
    "s.plot.barh(title='Most cited topics people are interested in', figsize=(10, 5))"
   ]
  },
  {
   "cell_type": "markdown",
   "metadata": {},
   "source": [
    "## PyData Members' Interests"
   ]
  },
  {
   "cell_type": "code",
   "execution_count": 14,
   "metadata": {
    "collapsed": true
   },
   "outputs": [],
   "source": [
    "path = 'pydata-members.json'\n",
    "if os.path.exists(path):\n",
    "    members = json.load(open(path))\n",
    "else:\n",
    "    members = get_all_members('PyData-Berlin')\n",
    "    json.dump(members, open(path, 'w'))"
   ]
  },
  {
   "cell_type": "code",
   "execution_count": 15,
   "metadata": {
    "collapsed": false,
    "scrolled": false
   },
   "outputs": [
    {
     "data": {
      "text/plain": [
       "<matplotlib.axes._subplots.AxesSubplot at 0x10e2582b0>"
      ]
     },
     "execution_count": 15,
     "metadata": {},
     "output_type": "execute_result"
    },
    {
     "data": {
      "image/png": "[encoded data removed]",
      "text/plain": [
       "<matplotlib.figure.Figure at 0x105960e80>"
      ]
     },
     "metadata": {},
     "output_type": "display_data"
    }
   ],
   "source": [
    "df = pd.concat([pd.DataFrame(m['topics']) for m in members])\n",
    "s = df.groupby('name').size().sort_values(ascending=True)[-20:]\n",
    "s.plot.barh(title='Most cited topics people are interested in', figsize=(10, 5))"
   ]
  },
  {
   "cell_type": "markdown",
   "metadata": {},
   "source": [
    "## Members' Groups?\n",
    "\n",
    "Information about the groups a member has joined seems to be harder to find... (???)"
   ]
  }
 ],
 "metadata": {
  "kernelspec": {
   "display_name": "Python 3",
   "language": "python",
   "name": "python3"
  },
  "language_info": {
   "codemirror_mode": {
    "name": "ipython",
    "version": 3
   },
   "file_extension": ".py",
   "mimetype": "text/x-python",
   "name": "python",
   "nbconvert_exporter": "python",
   "pygments_lexer": "ipython3",
   "version": "3.5.2"
  }
 },
 "nbformat": 4,
 "nbformat_minor": 0
}
