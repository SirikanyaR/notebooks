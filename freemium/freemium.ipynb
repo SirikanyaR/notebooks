{
 "cells": [
  {
   "cell_type": "markdown",
   "metadata": {},
   "source": [
    "# Tour of Free(mium) HERE APIs\n",
    "\n",
    "A short \"teaser\" presentation rushing through a small subset of many free APIs made by [HERE Technologies](https://here.com) under the [Freemium plan](https://engage.here.com/freemium). This notebook shows simple examples mostly for geocoding, places, maps and routing. They are designed for rapid consumption during a meetup talk. To that end, some code snippets longer than a few lines are imported from a module named `utils.py`. Third-party modules are imported in the respective sections below as needed. (See `utils.py` for a rough requirements list.)\n",
    "\n",
    "**Goal:** Showing enough examples to *wet you appetite* for more, not delivering a polished \"paper\" or \"package\".\n",
    "\n",
    "**N.B.:** This notebook is saved intentionally without cells executed as some of those would contain the HERE credentials used."
   ]
  },
  {
   "cell_type": "markdown",
   "metadata": {},
   "source": [
    "## Freemium Plan\n",
    "\n",
    "- started in August 2018\n",
    "- large number of APIs included\n",
    "- 250,000 API calls/month\n",
    "- 5,000 monthly users on iOS/Android\n",
    "- no credit card needed\n",
    "- https://engage.here.com/freemium\n",
    "- https://developer.here.com/documentation"
   ]
  },
  {
   "cell_type": "markdown",
   "metadata": {},
   "source": [
    "## Setup\n",
    "\n",
    "Credentials are imported from a `here_credentials.py` module if existing (via `utils.py`) defined as `app_id` and `app_code`, or from environment variables (`HEREMAPS_APP_ID`, `HEREMAPS_APP_CODE`)."
   ]
  },
  {
   "cell_type": "code",
   "execution_count": null,
   "metadata": {},
   "outputs": [],
   "source": [
    "import random\n",
    "import urllib"
   ]
  },
  {
   "cell_type": "code",
   "execution_count": null,
   "metadata": {},
   "outputs": [],
   "source": [
    "import utils"
   ]
  },
  {
   "cell_type": "code",
   "execution_count": null,
   "metadata": {},
   "outputs": [],
   "source": [
    "app_id   = utils.app_id\n",
    "app_code = utils.app_code\n",
    "\n",
    "berlin_lat_lon = [52.5, 13.4]\n",
    "\n",
    "here_berlin_addr = 'Invalidenstr. 116, 10115 Berlin, Germany'"
   ]
  },
  {
   "cell_type": "markdown",
   "metadata": {},
   "source": [
    "## Geocoding\n",
    "\n",
    "- documentation: https://developer.here.com/documentation#geocoder\n",
    "- raw REST\n",
    "- geopy plugin\n",
    "- geocoding\n",
    "- reverse geocoding"
   ]
  },
  {
   "cell_type": "markdown",
   "metadata": {},
   "source": [
    "### Raw REST"
   ]
  },
  {
   "cell_type": "code",
   "execution_count": null,
   "metadata": {},
   "outputs": [],
   "source": [
    "import requests"
   ]
  },
  {
   "cell_type": "code",
   "execution_count": null,
   "metadata": {},
   "outputs": [],
   "source": [
    "here_berlin_addr"
   ]
  },
  {
   "cell_type": "code",
   "execution_count": null,
   "metadata": {},
   "outputs": [],
   "source": [
    "searchtext = urllib.parse.quote(here_berlin_addr)\n",
    "searchtext"
   ]
  },
  {
   "cell_type": "code",
   "execution_count": null,
   "metadata": {},
   "outputs": [],
   "source": [
    "url = (\n",
    "     'https://geocoder.api.here.com/6.2/geocode.json'\n",
    "    f'?searchtext={searchtext}&app_id={app_id}&app_code={app_code}'\n",
    ")\n",
    "utils.mask_app_id(url)"
   ]
  },
  {
   "cell_type": "code",
   "execution_count": null,
   "metadata": {},
   "outputs": [],
   "source": [
    "obj = requests.get(url).json()\n",
    "obj"
   ]
  },
  {
   "cell_type": "code",
   "execution_count": null,
   "metadata": {},
   "outputs": [],
   "source": [
    "loc = obj['Response']['View'][0]['Result'][0]['Location']['DisplayPosition']\n",
    "loc['Latitude'], loc['Longitude']"
   ]
  },
  {
   "cell_type": "markdown",
   "metadata": {},
   "source": [
    "### Geopy Plugin\n",
    "\n",
    "- \"geocoders united\"\n",
    "- HERE plugin in Geopy 1.15.0, https://github.com/geopy/geopy/releases/tag/1.15.0\n",
    "- ``pip install geopy>=1.15.0``\n",
    "- only most essential parts of geocoder API covered!"
   ]
  },
  {
   "cell_type": "code",
   "execution_count": null,
   "metadata": {},
   "outputs": [],
   "source": [
    "from geopy.geocoders import Here"
   ]
  },
  {
   "cell_type": "code",
   "execution_count": null,
   "metadata": {},
   "outputs": [],
   "source": [
    "geocoder = Here(app_id, app_code)"
   ]
  },
  {
   "cell_type": "code",
   "execution_count": null,
   "metadata": {},
   "outputs": [],
   "source": [
    "here_berlin_addr"
   ]
  },
  {
   "cell_type": "code",
   "execution_count": null,
   "metadata": {},
   "outputs": [],
   "source": [
    "loc = geocoder.geocode(here_berlin_addr)\n",
    "loc"
   ]
  },
  {
   "cell_type": "code",
   "execution_count": null,
   "metadata": {},
   "outputs": [],
   "source": [
    "loc.latitude, loc.longitude"
   ]
  },
  {
   "cell_type": "code",
   "execution_count": null,
   "metadata": {},
   "outputs": [],
   "source": [
    "loc.raw"
   ]
  },
  {
   "cell_type": "code",
   "execution_count": null,
   "metadata": {},
   "outputs": [],
   "source": [
    "here_berlin_lat_lon = loc.latitude, loc.longitude\n",
    "here_berlin_lat_lon"
   ]
  },
  {
   "cell_type": "code",
   "execution_count": null,
   "metadata": {
    "scrolled": true
   },
   "outputs": [],
   "source": [
    "loc = geocoder.reverse('{}, {}'.format(*here_berlin_lat_lon))\n",
    "loc"
   ]
  },
  {
   "cell_type": "code",
   "execution_count": null,
   "metadata": {},
   "outputs": [],
   "source": [
    "loc.latitude, loc.longitude"
   ]
  },
  {
   "cell_type": "markdown",
   "metadata": {},
   "source": [
    "## Places\n",
    "\n",
    "- https://developer.here.com/documentation#places\n",
    "- receive places within some neighbourhood"
   ]
  },
  {
   "cell_type": "code",
   "execution_count": null,
   "metadata": {},
   "outputs": [],
   "source": [
    "searchtext = 'Cafe'\n",
    "lat, lon = here_berlin_lat_lon\n",
    "url = (\n",
    "     'https://places.api.here.com/places/v1/autosuggest'\n",
    "    f'?q={searchtext}&at={lat},{lon}'\n",
    "    f'&app_id={app_id}&app_code={app_code}'\n",
    ")\n",
    "utils.mask_app_id(url)"
   ]
  },
  {
   "cell_type": "code",
   "execution_count": null,
   "metadata": {
    "scrolled": true
   },
   "outputs": [],
   "source": [
    "obj = requests.get(url).json()\n",
    "obj"
   ]
  },
  {
   "cell_type": "code",
   "execution_count": null,
   "metadata": {},
   "outputs": [],
   "source": [
    "for p in [res for res in obj['results'] if res['type']=='urn:nlp-types:place']:\n",
    "    print('{!r:23} {:4d} m  {}'.format(p['position'], p['distance'], p['title']))"
   ]
  },
  {
   "cell_type": "markdown",
   "metadata": {},
   "source": [
    "## Maps\n",
    "\n",
    "- https://developer.here.com/documentation#map_tile\n",
    "- get single maptiles\n",
    "- use different maptiles\n",
    "- build entire maps\n",
    "- use folium, ipyleaflet & geopandas\n",
    "- revisit geocoding with shapes\n",
    "- draw these shapes"
   ]
  },
  {
   "cell_type": "markdown",
   "metadata": {},
   "source": [
    "### Single Map Tiles"
   ]
  },
  {
   "cell_type": "code",
   "execution_count": null,
   "metadata": {},
   "outputs": [],
   "source": [
    "from IPython.display import Image"
   ]
  },
  {
   "cell_type": "code",
   "execution_count": null,
   "metadata": {},
   "outputs": [],
   "source": [
    "(lat, lon), zoom = berlin_lat_lon, 10\n",
    "xtile, ytile = utils.deg2tile(lat, lon, zoom)\n",
    "xtile, ytile"
   ]
  },
  {
   "cell_type": "code",
   "execution_count": null,
   "metadata": {},
   "outputs": [],
   "source": [
    "# %load -s deg2tile utils\n",
    "def deg2tile(lat_deg, lon_deg, zoom):\n",
    "    lat_rad = radians(lat_deg)\n",
    "    n = 2.0 ** zoom\n",
    "    xtile = int((lon_deg + 180.0) / 360.0 * n)\n",
    "    ytile = int((1.0 - log(tan(lat_rad) + (1 / cos(lat_rad))) / pi) / 2.0 * n)\n",
    "    return (xtile, ytile)\n",
    "\n",
    "\n",
    "# not used here\n"
   ]
  },
  {
   "cell_type": "code",
   "execution_count": null,
   "metadata": {
    "scrolled": true
   },
   "outputs": [],
   "source": [
    "tiles_url = utils.build_here_tiles_url(\n",
    "    maptype='base',\n",
    "    tiletype='maptile',\n",
    "    scheme='normal.day',\n",
    "    x=xtile,\n",
    "    y=ytile,\n",
    "    z=zoom)"
   ]
  },
  {
   "cell_type": "code",
   "execution_count": null,
   "metadata": {},
   "outputs": [],
   "source": [
    "utils.mask_app_id(tiles_url)"
   ]
  },
  {
   "cell_type": "code",
   "execution_count": null,
   "metadata": {},
   "outputs": [],
   "source": [
    "img = Image(url=tiles_url)\n",
    "img"
   ]
  },
  {
   "cell_type": "code",
   "execution_count": null,
   "metadata": {},
   "outputs": [],
   "source": [
    "# %load -s build_here_tiles_url utils\n",
    "def build_here_tiles_url(**kwdict):\n",
    "    \"\"\"\n",
    "    Return a HERE map tiles URL, based on default values that can be \n",
    "    overwritten by kwdict...\n",
    "    \n",
    "    To be used for map building services like leaflet, folium, and \n",
    "    geopandas (with additional fields inside a dict)...\n",
    "    \"\"\"\n",
    "    params = dict(\n",
    "        app_id     = app_id,\n",
    "        app_code   = app_code,\n",
    "        maptype    = 'traffic',\n",
    "        tiletype   = 'traffictile',\n",
    "        scheme     = 'normal.day',\n",
    "        tilesize   = '256',\n",
    "        tileformat = 'png8',\n",
    "        lg         = 'eng',\n",
    "        x          = '{x}',\n",
    "        y          = '{y}',\n",
    "        z          = '{z}',\n",
    "        server     = random.choice('1234')\n",
    "    )\n",
    "    params.update(kwdict)\n",
    "    url = (\n",
    "        'https://{server}.{maptype}.maps.api.here.com'\n",
    "        '/maptile/2.1/{tiletype}/newest/{scheme}/{z}/{x}/{y}/{tilesize}/{tileformat}'\n",
    "        '?lg={lg}&app_id={app_id}&app_code={app_code}'\n",
    "    ).format(**params)\n",
    "    return url\n"
   ]
  },
  {
   "cell_type": "markdown",
   "metadata": {},
   "source": [
    "### Full Maps"
   ]
  },
  {
   "cell_type": "code",
   "execution_count": null,
   "metadata": {},
   "outputs": [],
   "source": [
    "import folium"
   ]
  },
  {
   "cell_type": "code",
   "execution_count": null,
   "metadata": {},
   "outputs": [],
   "source": [
    "folium.Map(location=berlin_lat_lon, zoom_start=10, tiles='Stamen Terrain')"
   ]
  },
  {
   "cell_type": "code",
   "execution_count": null,
   "metadata": {},
   "outputs": [],
   "source": [
    "m = folium.Map(location=berlin_lat_lon, zoom_start=10)\n",
    "folium.GeoJson('stops_berlin.geojson', name='BVG Stops').add_to(m)\n",
    "folium.LayerControl().add_to(m)\n",
    "m"
   ]
  },
  {
   "cell_type": "markdown",
   "metadata": {},
   "source": [
    "### Now HERE"
   ]
  },
  {
   "cell_type": "code",
   "execution_count": null,
   "metadata": {},
   "outputs": [],
   "source": [
    "tiles_url = utils.build_here_tiles_url()"
   ]
  },
  {
   "cell_type": "code",
   "execution_count": null,
   "metadata": {},
   "outputs": [],
   "source": [
    "utils.mask_app_id(tiles_url)"
   ]
  },
  {
   "cell_type": "code",
   "execution_count": null,
   "metadata": {},
   "outputs": [],
   "source": [
    "folium.Map(\n",
    "    location=berlin_lat_lon, \n",
    "    zoom_start=10, \n",
    "    tiles=tiles_url, \n",
    "    attr='HERE.com')"
   ]
  },
  {
   "cell_type": "markdown",
   "metadata": {},
   "source": [
    "### Geocoding Revisited\n",
    "\n",
    "- more GIS-savvy\n",
    "- (a litlle) more geo-spatial smarts"
   ]
  },
  {
   "cell_type": "code",
   "execution_count": null,
   "metadata": {},
   "outputs": [],
   "source": [
    "%matplotlib inline"
   ]
  },
  {
   "cell_type": "code",
   "execution_count": null,
   "metadata": {},
   "outputs": [],
   "source": [
    "import geopandas\n",
    "import shapely\n",
    "import shapely.wkt\n",
    "from geopy.geocoders import Here"
   ]
  },
  {
   "cell_type": "code",
   "execution_count": null,
   "metadata": {},
   "outputs": [],
   "source": [
    "geocoder = Here(app_id, app_code)"
   ]
  },
  {
   "cell_type": "code",
   "execution_count": null,
   "metadata": {},
   "outputs": [],
   "source": [
    "here_berlin_addr"
   ]
  },
  {
   "cell_type": "code",
   "execution_count": null,
   "metadata": {
    "scrolled": true
   },
   "outputs": [],
   "source": [
    "loc = geocoder.geocode(\n",
    "    here_berlin_addr, \n",
    "    additional_data='IncludeShapeLevel,postalCode') # <- get shapes!\n",
    "loc.raw"
   ]
  },
  {
   "cell_type": "code",
   "execution_count": null,
   "metadata": {},
   "outputs": [],
   "source": [
    "wkt_shape = loc.raw['Location']['Shape']['Value']"
   ]
  },
  {
   "cell_type": "code",
   "execution_count": null,
   "metadata": {},
   "outputs": [],
   "source": [
    "shape = shapely.wkt.loads(wkt_shape)\n",
    "shape"
   ]
  },
  {
   "cell_type": "code",
   "execution_count": null,
   "metadata": {},
   "outputs": [],
   "source": [
    "type(shape)"
   ]
  },
  {
   "cell_type": "code",
   "execution_count": null,
   "metadata": {},
   "outputs": [],
   "source": [
    "here_berlin_point = shapely.geometry.Point(*reversed(here_berlin_lat_lon))\n",
    "here_berlin_point"
   ]
  },
  {
   "cell_type": "code",
   "execution_count": null,
   "metadata": {},
   "outputs": [],
   "source": [
    "shape.contains(here_berlin_point)"
   ]
  },
  {
   "cell_type": "code",
   "execution_count": null,
   "metadata": {},
   "outputs": [],
   "source": [
    "shape.contains(shapely.geometry.Point(0, 0))"
   ]
  },
  {
   "cell_type": "code",
   "execution_count": null,
   "metadata": {
    "scrolled": false
   },
   "outputs": [],
   "source": [
    "data = [\n",
    "    ['10115 Berlin', shape], \n",
    "    ['HERE HQ', here_berlin_point]\n",
    "]\n",
    "df = geopandas.GeoDataFrame(data=data, columns=['object', 'geometry'])\n",
    "df"
   ]
  },
  {
   "cell_type": "code",
   "execution_count": null,
   "metadata": {},
   "outputs": [],
   "source": [
    "url = utils.build_here_tiles_url(x='tileX', y='tileY', z='tileZ')"
   ]
  },
  {
   "cell_type": "code",
   "execution_count": null,
   "metadata": {},
   "outputs": [],
   "source": [
    "utils.mask_app_id(url)"
   ]
  },
  {
   "cell_type": "code",
   "execution_count": null,
   "metadata": {},
   "outputs": [],
   "source": [
    "df.crs = {'init': 'epsg:4326'}   # dataframe is WGS84\n",
    "ax = df.plot(figsize=(10, 10), alpha=0.5, edgecolor='k')\n",
    "utils.add_basemap(ax, zoom=15, url=url)"
   ]
  },
  {
   "cell_type": "code",
   "execution_count": null,
   "metadata": {},
   "outputs": [],
   "source": [
    "# %load -s add_basemap utils\n",
    "def add_basemap(ax, zoom, url='http://tile.stamen.com/terrain/tileZ/tileX/tileY.png'):\n",
    "    # Special thanks to Prof. Martin Christen at FHNW.ch in Basel for\n",
    "    # his GIS-Hack to make the output scales show proper lat/lon values!\n",
    "    xmin, xmax, ymin, ymax = ax.axis()\n",
    "    basemap, extent = ctx.bounds2img(xmin, ymin, xmax, ymax, zoom=zoom, ll=True, url=url)\n",
    "    \n",
    "    # calculate extent from WebMercator to WGS84\n",
    "    xmin84, ymin84 = Mercator2WGS84(extent[0], extent[2])\n",
    "    xmax84, ymax84 = Mercator2WGS84(extent[1], extent[3])\n",
    "    extentwgs84 = (xmin84, xmax84, ymin84, ymax84)\n",
    "    \n",
    "    ax.imshow(basemap, extent=extentwgs84, interpolation='bilinear')\n",
    "    # restore original x/y limits\n",
    "    ax.axis((xmin, xmax, ymin, ymax))\n"
   ]
  },
  {
   "cell_type": "markdown",
   "metadata": {},
   "source": [
    "## Routing\n",
    "\n",
    "- https://developer.here.com/documentation#routing\n",
    "- routes\n",
    "- modes\n",
    "- maneuvers\n",
    "- ipyleaflet preferred over folium"
   ]
  },
  {
   "cell_type": "code",
   "execution_count": null,
   "metadata": {},
   "outputs": [],
   "source": [
    "from ipyleaflet import Map, Marker, CircleMarker, Polyline, basemap_to_tiles\n",
    "from ipywidgets import HTML"
   ]
  },
  {
   "cell_type": "code",
   "execution_count": null,
   "metadata": {},
   "outputs": [],
   "source": [
    "here_berlin_addr"
   ]
  },
  {
   "cell_type": "code",
   "execution_count": null,
   "metadata": {},
   "outputs": [],
   "source": [
    "here_berlin_lat_lon"
   ]
  },
  {
   "cell_type": "code",
   "execution_count": null,
   "metadata": {},
   "outputs": [],
   "source": [
    "dt_oper_berlin_addr = 'Bismarkstr. 35, 10627 Berlin, Germany'"
   ]
  },
  {
   "cell_type": "code",
   "execution_count": null,
   "metadata": {},
   "outputs": [],
   "source": [
    "loc = geocoder.geocode(dt_oper_berlin_addr)\n",
    "dt_oper_berlin_lat_lon = loc.latitude, loc.longitude\n",
    "dt_oper_berlin_lat_lon"
   ]
  },
  {
   "cell_type": "code",
   "execution_count": null,
   "metadata": {},
   "outputs": [],
   "source": [
    "route = utils.get_route_positions(\n",
    "    here_berlin_lat_lon, \n",
    "    dt_oper_berlin_lat_lon,\n",
    "    mode='fastest;car;traffic:disabled',\n",
    "    language='en')"
   ]
  },
  {
   "cell_type": "code",
   "execution_count": null,
   "metadata": {},
   "outputs": [],
   "source": [
    "route"
   ]
  },
  {
   "cell_type": "code",
   "execution_count": null,
   "metadata": {
    "scrolled": false
   },
   "outputs": [],
   "source": [
    "center = utils.mid_point(\n",
    "    here_berlin_lat_lon, \n",
    "    dt_oper_berlin_lat_lon)\n",
    "here_basemap = utils.build_here_basemap()\n",
    "layers = [basemap_to_tiles(here_basemap)]\n",
    "m = Map(center=center, layers=layers, zoom=13)\n",
    "m"
   ]
  },
  {
   "cell_type": "code",
   "execution_count": null,
   "metadata": {},
   "outputs": [],
   "source": [
    "route[0]['shape'][:4]"
   ]
  },
  {
   "cell_type": "code",
   "execution_count": null,
   "metadata": {},
   "outputs": [],
   "source": [
    "path = list(utils.chunks(route[0]['shape'], 2))\n",
    "path[:2]"
   ]
  },
  {
   "cell_type": "code",
   "execution_count": null,
   "metadata": {},
   "outputs": [],
   "source": [
    "sum(map(lambda pq: utils.geo_distance(*pq), list(utils.pairwise(path))))"
   ]
  },
  {
   "cell_type": "code",
   "execution_count": null,
   "metadata": {},
   "outputs": [],
   "source": [
    "m += Polyline(locations=path, color='red', fill=False)"
   ]
  },
  {
   "cell_type": "code",
   "execution_count": null,
   "metadata": {},
   "outputs": [],
   "source": [
    "for man in route[0]['leg'][0]['maneuver']:\n",
    "    lat = man['position']['latitude']\n",
    "    lon = man['position']['longitude']\n",
    "    desc = man['instruction']\n",
    "    marker = Marker(location=(lat, lon), draggable=False)\n",
    "    marker.popup = HTML(value=desc)\n",
    "    m += marker"
   ]
  },
  {
   "cell_type": "code",
   "execution_count": null,
   "metadata": {},
   "outputs": [],
   "source": [
    "for lat, lon in path:\n",
    "    m += CircleMarker(location=(lat, lon), radius=3, color='blue')"
   ]
  },
  {
   "cell_type": "code",
   "execution_count": null,
   "metadata": {},
   "outputs": [],
   "source": [
    "reverse_route = utils.get_route_positions(\n",
    "    dt_oper_berlin_lat_lon,\n",
    "    here_berlin_lat_lon,\n",
    "    mode='shortest;pedestrian',\n",
    "    language='en')"
   ]
  },
  {
   "cell_type": "code",
   "execution_count": null,
   "metadata": {},
   "outputs": [],
   "source": [
    "utils.add_route_to_map(reverse_route, m)"
   ]
  },
  {
   "cell_type": "code",
   "execution_count": null,
   "metadata": {},
   "outputs": [],
   "source": [
    "path = list(utils.chunks(reverse_route[0]['shape'], 2))\n",
    "sum(map(lambda pq: utils.geo_distance(*pq), list(utils.pairwise(path))))"
   ]
  },
  {
   "cell_type": "code",
   "execution_count": null,
   "metadata": {},
   "outputs": [],
   "source": [
    "# %load -s add_route_to_map utils.py\n",
    "def add_route_to_map(route, some_map, color='blue'):\n",
    "    \"\"\"\n",
    "    Add a route from the HERE REST API to the given map.\n",
    "    \n",
    "    This includes markers for all points where a maneuver is needed, like 'turn left'.\n",
    "    And it includes a path with lat/lons from start to end and little circle markers\n",
    "    around them.\n",
    "    \"\"\"\n",
    "    path_positions = list(chunks(route[0]['shape'], 2))\n",
    "    maneuvers = {\n",
    "        (man['position']['latitude'], man['position']['longitude']): man['instruction']\n",
    "            for man in route[0]['leg'][0]['maneuver']}\n",
    "\n",
    "    polyline = Polyline(\n",
    "        locations=path_positions,\n",
    "        color=color,\n",
    "        fill=False\n",
    "    )\n",
    "    some_map += polyline\n",
    "    \n",
    "    for lat, lon in path_positions:\n",
    "        if (lat, lon) in maneuvers:\n",
    "            some_map += CircleMarker(location=(lat, lon), radius=2)\n",
    "            \n",
    "            marker = Marker(location=(lat, lon), draggable=False)\n",
    "            message1 = HTML()\n",
    "            message1.value = maneuvers[(lat, lon)]\n",
    "            marker.popup = message1\n",
    "            some_map += marker\n",
    "        else:\n",
    "            some_map += CircleMarker(location=(lat, lon), radius=3)\n"
   ]
  },
  {
   "cell_type": "markdown",
   "metadata": {},
   "source": [
    "### Isolines"
   ]
  },
  {
   "cell_type": "code",
   "execution_count": null,
   "metadata": {},
   "outputs": [],
   "source": [
    "import requests\n",
    "import ipywidgets as widgets"
   ]
  },
  {
   "cell_type": "code",
   "execution_count": null,
   "metadata": {},
   "outputs": [],
   "source": [
    "lat, lon = here_berlin_lat_lon\n",
    "url = (\n",
    "    'https://isoline.route.api.here.com'\n",
    "    '/routing/7.2/calculateisoline.json'\n",
    "   f'?app_id={app_id}&app_code={app_code}' \n",
    "   f'&start=geo!{lat},{lon}'\n",
    "    '&mode=fastest;car;traffic:disabled'\n",
    "    '&range=300,600'  # seconds/meters\n",
    "    '&rangetype=time' # time/distance\n",
    "    #'&departure=now' # 2013-07-04T17:00:00+02\n",
    "    #'&resolution=20' # meters\n",
    ")\n",
    "obj = requests.get(url).json()"
   ]
  },
  {
   "cell_type": "code",
   "execution_count": null,
   "metadata": {},
   "outputs": [],
   "source": [
    "obj"
   ]
  },
  {
   "cell_type": "code",
   "execution_count": null,
   "metadata": {},
   "outputs": [],
   "source": [
    "here_basemap = utils.build_here_basemap()\n",
    "layers = [basemap_to_tiles(here_basemap)]\n",
    "m = Map(center=(lat, lon), layers=layers, zoom=12)\n",
    "m"
   ]
  },
  {
   "cell_type": "code",
   "execution_count": null,
   "metadata": {},
   "outputs": [],
   "source": [
    "m += Marker(location=(lat, lon))"
   ]
  },
  {
   "cell_type": "code",
   "execution_count": null,
   "metadata": {},
   "outputs": [],
   "source": [
    "for isoline in obj['response']['isoline']:\n",
    "    shape = isoline['component'][0]['shape']\n",
    "    path = [tuple(map(float, pos.split(','))) for pos in shape]\n",
    "    m += Polyline(locations=path, color='red', weight=2, fill=True)"
   ]
  },
  {
   "cell_type": "markdown",
   "metadata": {},
   "source": [
    "#### More interactively"
   ]
  },
  {
   "cell_type": "code",
   "execution_count": null,
   "metadata": {},
   "outputs": [],
   "source": [
    "here_basemap = utils.build_here_basemap()\n",
    "layers = [basemap_to_tiles(here_basemap)]\n",
    "m = Map(center=(lat, lon), layers=layers, zoom=13)\n",
    "m"
   ]
  },
  {
   "cell_type": "code",
   "execution_count": null,
   "metadata": {},
   "outputs": [],
   "source": [
    "lat, lon = here_berlin_lat_lon"
   ]
  },
  {
   "cell_type": "code",
   "execution_count": null,
   "metadata": {},
   "outputs": [],
   "source": [
    "dist_iso = utils.Isoline(m, \n",
    "                         lat=lat, lon=lon, \n",
    "                         app_id=app_id, app_code=app_code)"
   ]
  },
  {
   "cell_type": "code",
   "execution_count": null,
   "metadata": {},
   "outputs": [],
   "source": [
    "# can't get this working directly on dist_iso with __call__ :(\n",
    "def dist_iso_func(meters=1000):\n",
    "    dist_iso(meters=meters)"
   ]
  },
  {
   "cell_type": "code",
   "execution_count": null,
   "metadata": {},
   "outputs": [],
   "source": [
    "widgets.interact(dist_iso_func, meters=(1000, 2000, 200))"
   ]
  },
  {
   "cell_type": "code",
   "execution_count": null,
   "metadata": {},
   "outputs": [],
   "source": [
    "# %load -s Isoline utils\n",
    "class Isoline(object):\n",
    "    def __init__(self, the_map, **kwdict):\n",
    "        self.the_map = the_map\n",
    "        self.isoline = None\n",
    "        self.url = (\n",
    "            'https://isoline.route.api.here.com'\n",
    "            '/routing/7.2/calculateisoline.json'\n",
    "            '?app_id={app_id}&app_code={app_code}' \n",
    "            '&start=geo!{lat},{lon}'\n",
    "            '&mode=fastest;car;traffic:disabled'\n",
    "            '&range={{meters}}'  # seconds/meters\n",
    "            '&rangetype=distance' # time/distance\n",
    "            #'&departure=now' # 2013-07-04T17:00:00+02\n",
    "            #'&resolution=20' # meters\n",
    "        ).format(**kwdict)\n",
    "        self.cache = {}\n",
    "\n",
    "    def __call__(self, meters=1000):\n",
    "        if meters not in self.cache:\n",
    "            print('loading', meters)\n",
    "            url = self.url.format(meters=meters)\n",
    "            obj = requests.get(url).json()\n",
    "            self.cache[meters] = obj\n",
    "        obj = self.cache[meters]\n",
    "        isoline = obj['response']['isoline'][0]\n",
    "        shape = isoline['component'][0]['shape']\n",
    "        path = [tuple(map(float, pos.split(','))) for pos in shape]\n",
    "        if self.isoline:\n",
    "            self.the_map -= self.isoline\n",
    "        self.isoline = Polyline(locations=path, color='red', weight=2, fill=True)\n",
    "        self.the_map += self.isoline\n"
   ]
  },
  {
   "cell_type": "markdown",
   "metadata": {},
   "source": [
    "## More to come... (in another meetup ;)\n",
    "\n",
    "- dynamic map content (based on traitlets)\n",
    "- streaming data\n",
    "- ZeroMQ integration\n",
    "- sneak preview below"
   ]
  },
  {
   "cell_type": "code",
   "execution_count": null,
   "metadata": {},
   "outputs": [],
   "source": [
    "here_basemap = utils.build_here_basemap()\n",
    "layers = [basemap_to_tiles(here_basemap)]\n",
    "m = Map(center=berlin_lat_lon, layers=layers, zoom=13)\n",
    "m"
   ]
  },
  {
   "cell_type": "code",
   "execution_count": null,
   "metadata": {},
   "outputs": [],
   "source": [
    "marker = Marker(location=berlin_lat_lon)\n",
    "marker.location"
   ]
  },
  {
   "cell_type": "code",
   "execution_count": null,
   "metadata": {},
   "outputs": [],
   "source": [
    "m += marker"
   ]
  },
  {
   "cell_type": "code",
   "execution_count": null,
   "metadata": {},
   "outputs": [],
   "source": [
    "m -= marker"
   ]
  },
  {
   "cell_type": "code",
   "execution_count": null,
   "metadata": {},
   "outputs": [],
   "source": [
    "m += marker"
   ]
  },
  {
   "cell_type": "code",
   "execution_count": null,
   "metadata": {},
   "outputs": [],
   "source": [
    "marker.location = [52.49, 13.39]"
   ]
  },
  {
   "cell_type": "code",
   "execution_count": null,
   "metadata": {},
   "outputs": [],
   "source": [
    "loc = marker.location\n",
    "for i in range(5000):\n",
    "    d_lat = (random.random() - 0.5) / 100\n",
    "    d_lon = (random.random() - 0.5) / 100\n",
    "    marker.location = [loc[0] + d_lat, loc[1] + d_lon]"
   ]
  },
  {
   "cell_type": "markdown",
   "metadata": {},
   "source": [
    "## Take-Aways\n",
    "\n",
    "- HERE Freemium rocks!\n",
    "- Jupyter rocks!\n",
    "- Jupyter Lab rocks! (not shown here ;)\n",
    "- GeoPandas rocks! (not much shown here ;)\n",
    "- Ipyleaflet rocks!\n",
    "- Ipywidgets rock!\n",
    "\n",
    "Q: With all of this in your hands, what will **you** rock?!"
   ]
  }
 ],
 "metadata": {
  "kernelspec": {
   "display_name": "Python 3",
   "language": "python",
   "name": "python3"
  },
  "language_info": {
   "codemirror_mode": {
    "name": "ipython",
    "version": 3
   },
   "file_extension": ".py",
   "mimetype": "text/x-python",
   "name": "python",
   "nbconvert_exporter": "python",
   "pygments_lexer": "ipython3",
   "version": "3.6.5"
  }
 },
 "nbformat": 4,
 "nbformat_minor": 2
}
